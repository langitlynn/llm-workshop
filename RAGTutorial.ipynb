{
  "nbformat": 4,
  "nbformat_minor": 0,
  "metadata": {
    "colab": {
      "provenance": [],
      "include_colab_link": true
    },
    "kernelspec": {
      "name": "python3",
      "display_name": "Python 3"
    },
    "language_info": {
      "name": "python"
    }
  },
  "cells": [
    {
      "cell_type": "markdown",
      "metadata": {
        "id": "view-in-github",
        "colab_type": "text"
      },
      "source": [
        "<a href=\"https://colab.research.google.com/github/argonne-lcf/llm-workshop/blob/main/RAGTutorial.ipynb\" target=\"_parent\"><img src=\"https://colab.research.google.com/assets/colab-badge.svg\" alt=\"Open In Colab\"/></a>"
      ]
    },
    {
      "cell_type": "markdown",
      "source": [
        "#Resource Augmented Generation (RAG)"
      ],
      "metadata": {
        "id": "jGpjFGh2qX2O"
      }
    },
    {
      "cell_type": "markdown",
      "source": [
        "#### Imagine you went to live under a rock on August 2006. When you come out in 2024, you are asked how many planets revolve around the sun. What would you say?...\n",
        "![pluto](https://github.com/architvasan/LLMWorkshop/blob/main/rag_images/pluto_planets.jpeg?raw=1)\n",
        "\n",
        "This is similar to LLMs which are trained with data until a certain point and then asked questions on data they are not trained on. Understandably, LLMs will either be unable to answer or simply hallucinate a probably wrong answer."
      ],
      "metadata": {
        "id": "r5YjAA14ih8R"
      }
    },
    {
      "cell_type": "markdown",
      "source": [
        "###What can be done?\n",
        "\n",
        "Have the LLM go to the library using **Research Augmented Generation (RAG)**!"
      ],
      "metadata": {
        "id": "W3HmhY-rl29V"
      }
    },
    {
      "cell_type": "markdown",
      "source": [
        "RAG involves adding your own data (via a retrieval tool) to the prompt that you pass into a large language model.\n"
      ],
      "metadata": {
        "id": "PXtqMcK1nAv_"
      }
    },
    {
      "cell_type": "markdown",
      "source": [
        "![rag architecture](https://github.com/architvasan/LLMWorkshop/blob/main/rag_images/rag-overview.original.png?raw=1)"
      ],
      "metadata": {
        "id": "GAGt5yQVrz0C"
      }
    },
    {
      "cell_type": "markdown",
      "source": [
        "RAG has been shown to improve LLM prediction accuracy without needing to increase parameter size.\n",
        "\n",
        "![rag architecture](https://github.com/architvasan/LLMWorkshop/blob/main/rag_images/rag_acc_v_size.png?raw=1)"
      ],
      "metadata": {
        "id": "y6N4A87lt3Wq"
      }
    },
    {
      "cell_type": "markdown",
      "source": [
        "RAG also increases explainability by giving the source for information.\n",
        "\n",
        "![rag architecture](https://github.com/architvasan/LLMWorkshop/blob/main/rag_images/rag_source_locator.png?raw=1)"
      ],
      "metadata": {
        "id": "nDcwB4BMyUQ5"
      }
    },
    {
      "cell_type": "markdown",
      "source": [
        "#Implementation"
      ],
      "metadata": {
        "id": "s42Iqfmjy-1E"
      }
    },
    {
      "cell_type": "markdown",
      "source": [
        "### 1. Install + load relevant modules:\n",
        "*   langchain\n",
        "*   torch\n",
        "*   transformers\n",
        "*   sentence-transformers\n",
        "*   datasets\n",
        "*   faiss-cpu  \n",
        "*   pypdf\n",
        "*  unstructure[pdf]\n",
        "*  huggingface_hub (add hf_token)\n",
        "\n",
        "\n"
      ],
      "metadata": {
        "id": "rVkTgnU80jjV"
      }
    },
    {
      "cell_type": "code",
      "source": [
        "!pip install langchain\n",
        "!pip install torch\n",
        "!pip install transformers\n",
        "!pip install faiss-cpu\n",
        "!pip install pypdf\n",
        "!pip install sentence-transformers\n",
        "!pip install unstructured\n",
        "!pip install unstructured[pdf]\n",
        "!pip install tiktoken\n",
        "!pip install huggingface_hub\n",
        "from huggingface_hub import login\n",
        "\n",
        "hf_token = \"<insert_your_token_here>",
        "login(token=hf_token, add_to_git_credential=True)"
      ],
      "metadata": {
        "id": "c1uDuyDLd1Xi"
      },
      "execution_count": null,
      "outputs": []
    },
    {
      "cell_type": "markdown",
      "source": [
        "What is LangChain?\n",
        "\n",
        "LangChain is a framework for developing applications powered by language models. It enables:\n",
        "1. Language model importing\n",
        "2. Prompt templating\n",
        "3. Chains:They combine LLMs with other components, creating applications by executing a sequence of functions.\n",
        "4. Document Loading\n",
        "5. Text splitting\n",
        "6. Retrieval"
      ],
      "metadata": {
        "id": "Ht5HpwXiRXAO"
      }
    },
    {
      "cell_type": "markdown",
      "source": [
        "### 2. Choose a dataset to use and then load it into your code\n",
        "Here we are using the pdfs loaded in pdfs/. We load this using langchain DirectoryLoader."
      ],
      "metadata": {
        "id": "5agp6iRm-7jD"
      }
    },
    {
      "cell_type": "markdown",
      "source": [
        "We can load multiple types of datasets into this example though the most commonly used are PDFs and websites.\n",
        "\n",
        "To load websites, we could also use `langchain WebBaseLoader`\n",
        "\n",
        "In this example, we will consider PDFs and load them in using `langchain DirectoryLoader`.\n",
        "\n",
        "We host all PDFs at the PDFs directory `llm-workshop/tutorials/04-rag/PDFs`\n",
        "\n"
      ],
      "metadata": {
        "id": "vBx0cQJ9Jmtv"
      }
    },
    {
      "cell_type": "code",
      "source": [
        "! git clone https://github.com/argonne-lcf/llm-workshop.git"
      ],
      "metadata": {
        "id": "p8YpJK93pNsZ"
      },
      "execution_count": null,
      "outputs": []
    },
    {
      "cell_type": "code",
      "source": [
        "from langchain.document_loaders import DirectoryLoader\n",
        "loader = DirectoryLoader('llm-workshop/tutorials/04-rag/PDFs', glob=\"**/*.pdf\", show_progress=True)\n",
        "documents = loader.load()"
      ],
      "metadata": {
        "id": "YYoEp4FJz6oK"
      },
      "execution_count": null,
      "outputs": []
    },
    {
      "cell_type": "markdown",
      "source": [
        "### 3. Now, we need to split our documents into chunks.\n",
        "We want the embedding to be greater than 1 word but much less than an entire page. There are different ways to do this:\n",
        "\n",
        "\n",
        "*  Recursive: Recursively splits text. Useful for keeping related pieces of text next to each other.\n",
        "*   HTML: Splits text based on HTML-specific characters.\n",
        "*   Markdown: Splits on Markdown-specific characters\n",
        "*   Code: Splits text based on characters specific to coding languages.\n",
        "*   Token: Splits text on tokens. Can chunk tokens together\n",
        "*   Character: Splits based on some user defined character.\n",
        "\n",
        "Here we use recursive where the dataset is split using a set of characters. The default characters provided to it are [\"\\n\\n\", \"\\n\", \" \", \"\"].  A large text is split by the first character \\n\\n. If the first split by \\n\\n is still large then it moves to the next character which is \\n and tries to split by it. This continues until the chunk size is reached.\n"
      ],
      "metadata": {
        "id": "wjvyEOMMBB7G"
      }
    },
    {
      "cell_type": "code",
      "source": [
        "from langchain.text_splitter import RecursiveCharacterTextSplitter\n",
        "text_splitter = RecursiveCharacterTextSplitter(chunk_size=1000, chunk_overlap=150)\n",
        "docs = text_splitter.split_documents(documents)"
      ],
      "metadata": {
        "id": "SfgRcG6g0XOG"
      },
      "execution_count": null,
      "outputs": []
    },
    {
      "cell_type": "markdown",
      "source": [
        "### 4. Then we embed the chunked texts using a Transformer.\n",
        "This allows us to encode the text into our search"
      ],
      "metadata": {
        "id": "YyTRRvU6DboO"
      }
    },
    {
      "cell_type": "markdown",
      "source": [
        "Embedding converts text to a numerical representation in a vector space. RAG compares the embeddings of user queries within the vector of the knowledge library.\n",
        "\n",
        "In this example, we choose a simple embedding using the MiniLM"
      ],
      "metadata": {
        "id": "GXny33dcCHZc"
      }
    },
    {
      "cell_type": "code",
      "source": [
        "from langchain.embeddings import HuggingFaceEmbeddings\n",
        "modelPath = \"sentence-transformers/all-MiniLM-l6-v2\"\n",
        "model_kwargs = {'device':'cpu'}\n",
        "encode_kwargs = {'normalize_embeddings':False}\n",
        "embeddings = HuggingFaceEmbeddings(\n",
        "  model_name = modelPath,\n",
        "  model_kwargs = model_kwargs,\n",
        "  encode_kwargs=encode_kwargs\n",
        ")"
      ],
      "metadata": {
        "id": "kabjUo1I1Pev"
      },
      "execution_count": null,
      "outputs": []
    },
    {
      "cell_type": "markdown",
      "source": [
        "### 5.Create a vector database\n",
        "Vector databases, also called vector storage, efficiently store and retrieve vector data, which are arrays of numerical values representing points in multi-dimensional space. They're useful for handling data like embeddings from deep learning models or numerical features. Unlike traditional relational databases, which aren't optimized for vectors, vector databases offer efficient storage, indexing, and querying for high-dimensional and variable-length vectors.\n",
        "\n",
        " Here, we build this using the FAISS utility."
      ],
      "metadata": {
        "id": "tvkGZSJvEFeK"
      }
    },
    {
      "cell_type": "markdown",
      "source": [
        "![vector_database](https://github.com/argonne-lcf/llm-workshop/blob/main/tutorials/04-rag/rag_images/vector_database.png?raw=1)"
      ],
      "metadata": {
        "id": "NqccXGwoEYP-"
      }
    },
    {
      "cell_type": "markdown",
      "source": [
        "Some key features of vector databases include:\n",
        "\n",
        "1. Indexing: Techniques such as k-d trees, ball trees, or locality-sensitive hashing (LSH), enabling fast and efficient search operations over large datasets of vectors.\n",
        "\n",
        "2. Similarity Search: Given a query vector, the database can efficiently find the closest vectors in the dataset based on a chosen distance metric (e.g., Euclidean distance or cosine similarity).\n"
      ],
      "metadata": {
        "id": "6nMw4wTnQvaM"
      }
    },
    {
      "cell_type": "code",
      "source": [
        "from langchain.vectorstores import FAISS\n",
        "db = FAISS.from_documents(docs, embeddings)\n",
        "question = \"What is RF Fold?\"\n",
        "searchDocs = db.similarity_search(question)\n",
        "print(searchDocs[0].page_content)"
      ],
      "metadata": {
        "colab": {
          "base_uri": "https://localhost:8080/"
        },
        "id": "aWu5YGPj1e6B",
        "outputId": "f1d5e05c-aa10-4e46-c599-7c22ed37ce86"
      },
      "execution_count": null,
      "outputs": [
        {
          "output_type": "stream",
          "name": "stdout",
          "text": [
            "RFdiffusion, allowing it to efficiently target this site (right bar, pink). C-D) As well as conditioning on hotspot residue information, a fine-tuned RFdiffusion model can also condition on input fold information (secondary structure and block-adjacency information - see Supplementary Methods 4.5). This effectively allows the specification of a (for instance, particularly compatible) fold that the binder should adopt. C) Two examples showing binders can be specified to adopt either a ferredoxin fold (left) or a particular helical bundle fold (right). D) Quantification of the efficiency of fold-conditioning. Secondary structure inputs were accurately respected (top, pink). Note that in this design target and target site, RFdiffusion without fold-specification made generally helical\n"
          ]
        }
      ]
    },
    {
      "cell_type": "markdown",
      "source": [
        "### 6. Initialize the LLM that will be used for question answering"
      ],
      "metadata": {
        "id": "5A56JddAEkCF"
      }
    },
    {
      "cell_type": "markdown",
      "source": [
        "Here, we use a pretrained model flan-t5-large as part of a HuggingFacePipeline. This will later be chained with the vector database for RAG."
      ],
      "metadata": {
        "id": "tdUokERIMnz3"
      }
    },
    {
      "cell_type": "code",
      "source": [
        "from transformers import AutoTokenizer, AutoModelForSeq2SeqLM,pipeline\n",
        "from langchain import HuggingFacePipeline\n",
        "\n",
        "tokenizer = AutoTokenizer.from_pretrained(\"google/flan-t5-large\")\n",
        "model = AutoModelForSeq2SeqLM.from_pretrained(\"google/flan-t5-large\")\n",
        "pipe = pipeline(\"text2text-generation\", model=model, tokenizer=tokenizer)\n",
        "llm = HuggingFacePipeline(\n",
        "   pipeline = pipe,\n",
        "   model_kwargs={\"temperature\": 0, \"max_length\": 2048},\n",
        ")\n",
        "#'HuggingFaceH4/zephyr-7b-beta'"
      ],
      "metadata": {
        "id": "9CXf3N6c134r"
      },
      "execution_count": null,
      "outputs": []
    },
    {
      "cell_type": "markdown",
      "source": [
        "### 7. Retrieve data and use it to answer a question"
      ],
      "metadata": {
        "id": "EvJhhDzYEvhu"
      }
    },
    {
      "cell_type": "markdown",
      "source": [
        "![rag_workflow](https://github.com/argonne-lcf/llm-workshop/blob/main/tutorials/04-rag/rag_images/rag_workflow.png?raw=1)"
      ],
      "metadata": {
        "id": "QOQG22pHOf5W"
      }
    },
    {
      "cell_type": "markdown",
      "source": [
        "Let's ask questions it would only be able to know if the model actually read the texts!"
      ],
      "metadata": {
        "id": "jWJHxBc9hzJB"
      }
    },
    {
      "cell_type": "code",
      "source": [
        "from langchain.prompts import PromptTemplate\n",
        "\n",
        "template = \"\"\"Use the following pieces of context to answer the question at the end. If you don't know the answer, just say that you don't know, don't try to make up an answer. Keep the answer as concise as possible.\n",
        "{context}\n",
        "Question: {question}\n",
        "Helpful Answer:\"\"\"\n",
        "QA_CHAIN_PROMPT = PromptTemplate.from_template(template)"
      ],
      "metadata": {
        "id": "nMrN1_3B2cA1"
      },
      "execution_count": null,
      "outputs": []
    },
    {
      "cell_type": "code",
      "source": [
        "from langchain.chains import RetrievalQA\n",
        "qa_chain = RetrievalQA.from_chain_type(\n",
        "  llm=llm,\n",
        "  chain_type=\"stuff\",\n",
        "  retriever=db.as_retriever(),\n",
        "  chain_type_kwargs={\"prompt\": QA_CHAIN_PROMPT}\n",
        ")\n",
        "result = qa_chain ({ \"query\" : \"What technique proposed in 2023 can be used to predict protein folding?\" })\n",
        "print(result[\"result\"])"
      ],
      "metadata": {
        "colab": {
          "base_uri": "https://localhost:8080/"
        },
        "id": "HLCz3eiX2e0g",
        "outputId": "211a3750-3a75-4707-e349-18e1606b1a1f"
      },
      "execution_count": null,
      "outputs": [
        {
          "output_type": "stream",
          "name": "stderr",
          "text": [
            "Token indices sequence length is longer than the specified maximum sequence length for this model (1076 > 512). Running this sequence through the model will result in indexing errors\n",
            "/usr/local/lib/python3.10/dist-packages/transformers/generation/utils.py:1273: UserWarning: Using the model-agnostic default `max_length` (=20) to control the generation length. We recommend setting `max_new_tokens` to control the maximum length of the generation.\n",
            "  forwarded to the `forward` function of the model. If the model is an encoder-decoder model, encoder\n"
          ]
        },
        {
          "output_type": "stream",
          "name": "stdout",
          "text": [
            "RFdiffusion\n"
          ]
        }
      ]
    },
    {
      "cell_type": "markdown",
      "source": [
        "Now let's ask the chain where to find the article related to RFDiffusion"
      ],
      "metadata": {
        "id": "ynkOkS39K2FT"
      }
    },
    {
      "cell_type": "code",
      "source": [
        "qa_chain ({ \"query\" : \"Which scientific article should I read to learn about RFdiffusion for protein folding?\" })"
      ],
      "metadata": {
        "id": "GWP0ZJ0Cc7uw",
        "outputId": "6fb5f0f0-7dfc-4f47-cecf-3811454236ec",
        "colab": {
          "base_uri": "https://localhost:8080/"
        }
      },
      "execution_count": null,
      "outputs": [
        {
          "output_type": "stream",
          "name": "stderr",
          "text": [
            "/usr/local/lib/python3.10/dist-packages/transformers/generation/utils.py:1273: UserWarning: Using the model-agnostic default `max_length` (=20) to control the generation length. We recommend setting `max_new_tokens` to control the maximum length of the generation.\n",
            "  forwarded to the `forward` function of the model. If the model is an encoder-decoder model, encoder\n"
          ]
        },
        {
          "output_type": "execute_result",
          "data": {
            "text/plain": [
              "{'query': 'Which scientific article should I read to learn about RFdiffusion for protein folding?',\n",
              " 'result': 'Nature | Vol 620 | 31 August 2023 | 1091'}"
            ]
          },
          "metadata": {},
          "execution_count": 38
        }
      ]
    }
  ]
}
