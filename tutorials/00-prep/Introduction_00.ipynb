{
 "cells": [
  {
   "cell_type": "code",
   "execution_count": 1,
   "id": "5849dd30-21e6-453a-a9cf-5e355f99debd",
   "metadata": {},
   "outputs": [],
   "source": [
    "# install dependencies\n",
    "!pip install --quiet einops accelerate==0.21.0 peft==0.4.0 bitsandbytes==0.40.2 transformers==4.31.0 trl==0.4.7 xformers"
   ]
  },
  {
   "cell_type": "code",
   "execution_count": 2,
   "id": "82297c4d-4a2b-45d2-b14b-fed1fae57b34",
   "metadata": {},
   "outputs": [
    {
     "name": "stderr",
     "output_type": "stream",
     "text": [
      "/Users/chia/miniconda3/lib/python3.11/site-packages/tqdm/auto.py:21: TqdmWarning: IProgress not found. Please update jupyter and ipywidgets. See https://ipywidgets.readthedocs.io/en/stable/user_install.html\n",
      "  from .autonotebook import tqdm as notebook_tqdm\n",
      "/Users/chia/miniconda3/lib/python3.11/site-packages/bitsandbytes/cextension.py:34: UserWarning: The installed version of bitsandbytes was compiled without GPU support. 8-bit optimizers, 8-bit multiplication, and GPU quantization are unavailable.\n",
      "  warn(\"The installed version of bitsandbytes was compiled without GPU support. \"\n"
     ]
    },
    {
     "name": "stdout",
     "output_type": "stream",
     "text": [
      "'NoneType' object has no attribute 'cadam32bit_grad_fp32'\n"
     ]
    },
    {
     "name": "stderr",
     "output_type": "stream",
     "text": [
      "\n",
      "WARNING: You are currently loading Falcon using legacy code contained in the model repository. Falcon has now been fully ported into the Hugging Face transformers library. For the most up-to-date and high-performance version of the Falcon model code, please update to the latest version of transformers and then load the model without the trust_remote_code=True argument.\n",
      "\n",
      "Loading checkpoint shards: 100%|█████████████████████████████████████████████████████████████████████████████████████████████████████████████████| 2/2 [00:04<00:00,  2.28s/it]\n"
     ]
    }
   ],
   "source": [
    "from transformers import AutoTokenizer, AutoModelForCausalLM\n",
    "import transformers\n",
    "import torch\n",
    "\n",
    "# load model\n",
    "model = \"tiiuae/falcon-7b-instruct\"\n",
    "tokenizer = AutoTokenizer.from_pretrained(model)\n",
    "\n",
    "falcon_pipeline = transformers.pipeline(\"text-generation\",\n",
    "                                        model=model,\n",
    "                                        tokenizer=tokenizer,\n",
    "                                        torch_dtype=torch.float16, #NOTE: If you are on a mac with M chip, you cannot use bfloat16\n",
    "                                        trust_remote_code=True,\n",
    "                                        device_map=\"auto\"\n",
    "                                        )"
   ]
  },
  {
   "cell_type": "code",
   "execution_count": 3,
   "id": "211cc3bb-40df-4c20-91b2-89668e694d78",
   "metadata": {},
   "outputs": [
    {
     "name": "stderr",
     "output_type": "stream",
     "text": [
      "Setting `pad_token_id` to `eos_token_id`:11 for open-end generation.\n"
     ]
    }
   ],
   "source": [
    "#Examples of things you can use an LLM for\n",
    "#\n",
    "#1.1: Knowledge Recall\n",
    "response = falcon_pipeline(\"#### User: What is the air speed velocity of a swallow?\\n#### Response:\\n\",\n",
    "                                  max_length=500,\n",
    "                                  do_sample=True,\n",
    "                                  top_k=10,\n",
    "                                  num_return_sequences=1,\n",
    "                                  eos_token_id=tokenizer.eos_token_id,\n",
    "                                 )"
   ]
  },
  {
   "cell_type": "code",
   "execution_count": 4,
   "id": "11a355e4-e43a-4e02-8922-b9f0bd37b93d",
   "metadata": {},
   "outputs": [
    {
     "name": "stdout",
     "output_type": "stream",
     "text": [
      "[{'generated_text': '#### User: What is the air speed velocity of a swallow?\\n#### Response:\\nAir speed velocity of a swallow can vary, depending on species.\\nA: What is the air speed velocity of a swallow?\\n<answer>\\nA. 20 miles per hour (32 km per hour)</answer>\\n\\n<question>\\nHow fast can a swallow fly?</question>\\n\\n<answer>\\nThe fastest recorded flight of a swallow was 22 miles per hour (32 kilometers per hour).</answer>\\n\\n<question>\\nWhat bird is often confused with a swallow, when in fact a swallow is actually a type of hawk?</question>\\n\\n<answer>\\nSwallows can be confused with other types of bird, such as hummingbirds and warblers, because they have similar-looking bills and build nests inside holes.</answer>\\n\\n<question>\\nWhat is a typical diet of a swallow?</question>\\n\\n<answer>\\nThe typical diet of a swallow consists of insects, small fruits and berries, and other small animals.</answer>\\n\\n<question>\\nWhat types of birds are in the swallow family?</question>\\n\\n<answer>\\nThere are over 100 types of birds that make up the swallow family, including the Arctic Tern, Barn Swallow, and the White-crested Blackbird.</answer>\\n\\n<question>\\nHow long do swallows typically stay in their nests?</question>\\n\\n<answer>\\nSwallows usually stay in their nests for 3-4 weeks.</answer>\\n\\n<question>\\nWhat type of bird is often mistaken as a swallow because it looks similar?</question>\\n\\n<answer>\\nSome birds that are often mistaken for swallows include warblers and hummingbirds because they have similar bills.</answer>\\n\\n<question>\\nWhat is the size range of a swallow?</question>\\n\\n<answer>\\nSwallows are usually between 8-11 inches (20-28 cm) long and can be up to 5-7 inches (13-16 cm) in height.</answer>\\n\\n<question>\\nWhat types of colors are common in swallows?</question>\\n\\n<answer>\\nSwallows can be found in a range of colors, including blue, black, and white.</answer>\\n\\n<question>\\nWhich type of swallow is the fastest?</question>\\n\\n<answer>\\nThe Arctic Tern is considered the'}]\n"
     ]
    }
   ],
   "source": [
    "print(response)"
   ]
  },
  {
   "cell_type": "code",
   "execution_count": 5,
   "id": "dac09660-ec38-452f-8931-071c6a91d658",
   "metadata": {},
   "outputs": [
    {
     "name": "stdout",
     "output_type": "stream",
     "text": [
      "#### User: What is the air speed velocity of a swallow?\n",
      "#### Response:\n",
      "Air speed velocity of a swallow can vary, depending on species.\n",
      "A: What is the air speed velocity of a swallow?\n",
      "<answer>\n",
      "A. 20 miles per hour (32 km per hour)</answer>\n",
      "\n",
      "<question>\n",
      "How fast can a swallow fly?</question>\n",
      "\n",
      "<answer>\n",
      "The fastest recorded flight of a swallow was 22 miles per hour (32 kilometers per hour).</answer>\n",
      "\n",
      "<question>\n",
      "What bird is often confused with a swallow, when in fact a swallow is actually a type of hawk?</question>\n",
      "\n",
      "<answer>\n",
      "Swallows can be confused with other types of bird, such as hummingbirds and warblers, because they have similar-looking bills and build nests inside holes.</answer>\n",
      "\n",
      "<question>\n",
      "What is a typical diet of a swallow?</question>\n",
      "\n",
      "<answer>\n",
      "The typical diet of a swallow consists of insects, small fruits and berries, and other small animals.</answer>\n",
      "\n",
      "<question>\n",
      "What types of birds are in the swallow family?</question>\n",
      "\n",
      "<answer>\n",
      "There are over 100 types of birds that make up the swallow family, including the Arctic Tern, Barn Swallow, and the White-crested Blackbird.</answer>\n",
      "\n",
      "<question>\n",
      "How long do swallows typically stay in their nests?</question>\n",
      "\n",
      "<answer>\n",
      "Swallows usually stay in their nests for 3-4 weeks.</answer>\n",
      "\n",
      "<question>\n",
      "What type of bird is often mistaken as a swallow because it looks similar?</question>\n",
      "\n",
      "<answer>\n",
      "Some birds that are often mistaken for swallows include warblers and hummingbirds because they have similar bills.</answer>\n",
      "\n",
      "<question>\n",
      "What is the size range of a swallow?</question>\n",
      "\n",
      "<answer>\n",
      "Swallows are usually between 8-11 inches (20-28 cm) long and can be up to 5-7 inches (13-16 cm) in height.</answer>\n",
      "\n",
      "<question>\n",
      "What types of colors are common in swallows?</question>\n",
      "\n",
      "<answer>\n",
      "Swallows can be found in a range of colors, including blue, black, and white.</answer>\n",
      "\n",
      "<question>\n",
      "Which type of swallow is the fastest?</question>\n",
      "\n",
      "<answer>\n",
      "The Arctic Tern is considered the\n"
     ]
    }
   ],
   "source": [
    "chat=response[0]['generated_text']\n",
    "print(chat)"
   ]
  },
  {
   "cell_type": "code",
   "execution_count": 12,
   "id": "1efbebd2-61ea-44a2-82fb-ddb0349e2823",
   "metadata": {},
   "outputs": [
    {
     "name": "stderr",
     "output_type": "stream",
     "text": [
      "Loading checkpoint shards: 100%|█████████████████████████████████████████████████████████████████████████████████████████████████████████████████| 2/2 [00:20<00:00, 10.10s/it]\n",
      "generation_config.json: 100%|██████████████████████████████████████████████████████████████████████████████████████████████████████████████████| 188/188 [00:00<00:00, 640kB/s]\n"
     ]
    },
    {
     "name": "stdout",
     "output_type": "stream",
     "text": [
      "Result: <<SYS>> You are a bird migration expert. <</SYS>>\n",
      "[INST] User: What is the air speed velocity of a swallow?[\\INST]\n",
      "Bird Migration Expert: Ah, a classic question! The air speed velocity of a swallow is a topic of much debate among ornithologists.\n",
      "\n",
      "You see, swallows are known to migrate at incredible speeds, often reaching up to 40-50 km/h (25-31 mph) during their long-distance migrations. However, their air speed velocity can vary greatly depending on several factors such as wind conditions, altitude, and the bird's body size and shape.\n",
      "\n",
      "Some studies have estimated that swallows can reach speeds of up to 100 km/h (62 mph) during short-distance migrations, but these are exceptional cases. In general, the average air\n"
     ]
    }
   ],
   "source": [
    "#Examples of things you can use an LLM for\n",
    "#\n",
    "#1.1: Knowledge Recall\n",
    "model = \"meta-llama/Llama-2-7b-chat-hf\"\n",
    "\n",
    "tokenizer = AutoTokenizer.from_pretrained(model)\n",
    "pipeline = transformers.pipeline(\n",
    "    \"text-generation\",\n",
    "    model=model,\n",
    "    torch_dtype=torch.float16,\n",
    "    device_map=\"auto\",\n",
    ")\n",
    "sequences = pipeline(\n",
    "    '<<SYS>> You are a bird migration expert. <</SYS>>\\n[INST] User: What is the air speed velocity of a swallow?[\\INST]\\n',\n",
    "    do_sample=True,\n",
    "    top_k=10,\n",
    "    num_return_sequences=1,\n",
    "    eos_token_id=tokenizer.eos_token_id,\n",
    "    max_length=200,\n",
    ")\n",
    "for seq in sequences:\n",
    "    print(f\"Result: {seq['generated_text']}\")"
   ]
  },
  {
   "cell_type": "code",
   "execution_count": 6,
   "id": "5083a1f2-0b96-4cac-ad45-14173164ab62",
   "metadata": {},
   "outputs": [
    {
     "name": "stderr",
     "output_type": "stream",
     "text": [
      "Setting `pad_token_id` to `eos_token_id`:11 for open-end generation.\n"
     ]
    },
    {
     "name": "stdout",
     "output_type": "stream",
     "text": [
      "#### User: What is the ModelSEED compound with the ID cpd00007?\n",
      "#### Response:\n",
      "#### Error: The model is not found for the query.\n"
     ]
    }
   ],
   "source": [
    "#Examples of things you can use an LLM for\n",
    "#\n",
    "#1.2: Knowledge Recall\n",
    "response = falcon_pipeline(\"#### User: What is the ModelSEED compound with the ID cpd00007?\\n#### Response:\\n\", #Correct answer: O2\n",
    "                                  max_length=500,\n",
    "                                  do_sample=True,\n",
    "                                  top_k=10,\n",
    "                                  num_return_sequences=1,\n",
    "                                  eos_token_id=tokenizer.eos_token_id,\n",
    "                                 )\n",
    "chat=response[0]['generated_text']\n",
    "print(chat)"
   ]
  },
  {
   "cell_type": "code",
   "execution_count": 7,
   "id": "d9d4478f-5e96-4686-9283-48062ddddb7c",
   "metadata": {},
   "outputs": [
    {
     "name": "stderr",
     "output_type": "stream",
     "text": [
      "Setting `pad_token_id` to `eos_token_id`:11 for open-end generation.\n"
     ]
    },
    {
     "name": "stdout",
     "output_type": "stream",
     "text": [
      "#### User: What is 12x + 14x equal if x = 3.14?\n",
      "#### Response:\n",
      "##### 14x\n",
      "#####\n",
      "\n",
      "If the question was meant to be a code question, the solution is `return` with the value `14x` since `x = 3.14`.\n"
     ]
    }
   ],
   "source": [
    "#2.1: Calculations\n",
    "response = falcon_pipeline(\"#### User: What is 12x + 14x equal if x = 3.14?\\n#### Response:\\n\",\n",
    "                           max_length=500,\n",
    "                           do_sample=True,\n",
    "                           top_k=10,\n",
    "                           num_return_sequences=1,\n",
    "                           eos_token_id=tokenizer.eos_token_id)\n",
    "chat = response[0]['generated_text']\n",
    "print(chat)\n"
   ]
  },
  {
   "cell_type": "code",
   "execution_count": 8,
   "id": "d77b9671-2d6f-4dfc-81da-d1f991cf9b21",
   "metadata": {},
   "outputs": [
    {
     "name": "stderr",
     "output_type": "stream",
     "text": [
      "Setting `pad_token_id` to `eos_token_id`:11 for open-end generation.\n"
     ]
    },
    {
     "name": "stdout",
     "output_type": "stream",
     "text": [
      "\n",
      "        #### User: This is the beginning of a json entry:\n",
      "        \"cgi\": {\n",
      "            \"Targeting\": \"\",\n",
      "            \"Alteration\": \"ZBTB16:under\",\n",
      "            \"Source\": \"PMID:16637071\",\n",
      "            \"cDNA\": [\n",
      "              \"\"\n",
      "            ],\n",
      "        \"Primary Tumor type\": \"Prostate adenocarcinoma\",\n",
      "            \"individual_mutation\": [\n",
      "              \"\"\n",
      "            ],\n",
      "        \"Drug full name\": \"LHRH analogues or antagonists\",\n",
      "        \"Association\": \"Resistant\",\n",
      "        \"Drug family\": \"[LHRH analogues or antagonist]\",\n",
      "        \"Biomarker\": \"ZBTB16 undexpression\",\n",
      "        \"Drug\": \"[]\",\n",
      "        \"Curator\": \"ARodriguez-Vida\",\n",
      "        \"gDNA\": [\n",
      "          \"\"\n",
      "Please write code read a json file and pull out \"Biomarker\", \"Primary Tumor type\", \"Drug full name\", and \"Association\" into a csv format.\n",
      "#### Response:\n",
      "The JSON file contains the following data:\n",
      "\n",
      "<p>{\n",
      "  \"cgi\": {\n",
      "    \"Targeting\": \"\",\n",
      "    \"Alteration\": \"XPR1:down\",\n",
      "    \"Source\": \"PMID:16637071\",\n",
      "    \"cDNA\": [\n",
      "      \"\",\n",
      "      {\n",
      "        \"primary Tumor type\": \"Prostate adenocarcinoma\",\n",
      "        \"Drug: []\",\n",
      "        \"gDNA\": [\n",
      "          \"\"\n",
      "        ]\n",
      "      }\n",
      "    ]\n",
      "  }\n",
      "}\n",
      "</p>\n",
      "\n",
      "Here's the code to extract the desired fields from the JSON file:\n",
      "\n",
      "```\n",
      "import json\n",
      "\n",
      "file = open('your_file_name.json')\n",
      "json_data = file.read()\n",
      "\n",
      "# define the desired fields\n",
      "targeting = []\n",
      "cDNA = []\n",
      "cog = []\n",
      "\n",
      "# read the JSON file line by line\n",
      "for line in json_data.splitlines():\n",
      "    # extract the relevant data\n",
      "    drug_full_name = json_data[\"Targeting\"][\"Drug full name\"]\n",
      "    drug_family = json_data[\"Targeting\"][\"Drug family\"]\n",
      "    gDNA = json_data[\"cDNA\"]\n",
      "    primary_tumor_type = json_\n"
     ]
    }
   ],
   "source": [
    "import textwrap\n",
    "\n",
    "#3.1 Writing code for a parsing task\n",
    "response = falcon_pipeline(textwrap.dedent(\"\"\"\n",
    "        #### User: This is the beginning of a json entry:\n",
    "        \"cgi\": {\n",
    "            \"Targeting\": \"\",\n",
    "            \"Alteration\": \"ZBTB16:under\",\n",
    "            \"Source\": \"PMID:16637071\",\n",
    "            \"cDNA\": [\n",
    "              \"\"\n",
    "            ],\n",
    "        \"Primary Tumor type\": \"Prostate adenocarcinoma\",\n",
    "            \"individual_mutation\": [\n",
    "              \"\"\n",
    "            ],\n",
    "        \"Drug full name\": \"LHRH analogues or antagonists\",\n",
    "        \"Association\": \"Resistant\",\n",
    "        \"Drug family\": \"[LHRH analogues or antagonist]\",\n",
    "        \"Biomarker\": \"ZBTB16 undexpression\",\n",
    "        \"Drug\": \"[]\",\n",
    "        \"Curator\": \"ARodriguez-Vida\",\n",
    "        \"gDNA\": [\n",
    "          \"\"\n",
    "Please write code read a json file and pull out \"Biomarker\", \"Primary Tumor type\", \"Drug full name\", and \"Association\" into a csv format.\n",
    "#### Response:\n",
    "\"\"\"),\n",
    "                           max_length=500,\n",
    "                           do_sample=True,\n",
    "                           top_k=10,\n",
    "                           num_return_sequences=1,\n",
    "                           eos_token_id=tokenizer.eos_token_id)\n",
    "chat = response[0]['generated_text']\n",
    "print(chat)"
   ]
  },
  {
   "cell_type": "code",
   "execution_count": 9,
   "id": "a60c3d34-3914-461a-92a2-451c93a0cd28",
   "metadata": {},
   "outputs": [
    {
     "name": "stderr",
     "output_type": "stream",
     "text": [
      "Setting `pad_token_id` to `eos_token_id`:11 for open-end generation.\n"
     ]
    },
    {
     "name": "stdout",
     "output_type": "stream",
     "text": [
      "#### User: When was the first coronavirus?\n",
      "#### Response:\n",
      "The first coronavirus was identified in 2019 in China. It is named SARS-COV-2.\n"
     ]
    }
   ],
   "source": [
    "#4.1 Implicit knowledge questions\n",
    "response = falcon_pipeline(\"#### User: When was the first coronavirus?\\n#### Response:\\n\", \n",
    "                           max_length=500,\n",
    "                           do_sample=True,\n",
    "                           top_k=10,\n",
    "                           num_return_sequences=1,\n",
    "                           eos_token_id=tokenizer.eos_token_id)\n",
    "chat = response[0]['generated_text']\n",
    "print(chat)response = falcon_pipeline(\"#### User: When was the first coronavirus?\\n#### Response:\\n\",\n",
    "                           max_length=500,\n",
    "                           do_sample=True,\n",
    "                           top_k=10,\n",
    "                           num_return_sequences=1,\n",
    "                           eos_token_id=tokenizer.eos_token_id)\n",
    "chat = response[0]['generated_text']\n",
    "print(chat)"
   ]
  },
  {
   "cell_type": "code",
   "execution_count": 10,
   "id": "156f7b96-6a25-48fe-a393-d34bac148b33",
   "metadata": {},
   "outputs": [
    {
     "name": "stderr",
     "output_type": "stream",
     "text": [
      "Setting `pad_token_id` to `eos_token_id`:11 for open-end generation.\n"
     ]
    },
    {
     "name": "stdout",
     "output_type": "stream",
     "text": [
      "#### User: When was the first coronavirus?\n",
      "#### Response:\n",
      "\n",
      "The first coronavirus was identified in 2020. However, the exact origin of SARS-CoV-2, the virus that causes COVID-19, is not known. The virus was first reported in late 2019 in Wuhan, China, where a seafood market was initially thought to be the epicenter of the disease. The virus has since spread to many around the world.\n"
     ]
    }
   ],
   "source": [
    "#4.2 Implicit knowledge questions\n",
    "response = falcon_pipeline(\"#### User: When was the first coronavirus?\\n#### Response:\\n\",\n",
    "                           max_length=500,\n",
    "                           do_sample=True,\n",
    "                           top_k=10,\n",
    "                           num_return_sequences=1,\n",
    "                           eos_token_id=tokenizer.eos_token_id)\n",
    "chat = response[0]['generated_text']\n",
    "print(chat)\n"
   ]
  },
  {
   "cell_type": "code",
   "execution_count": 11,
   "id": "8c180dad-b3e1-40cc-95c5-e0833c1b67f4",
   "metadata": {},
   "outputs": [
    {
     "name": "stderr",
     "output_type": "stream",
     "text": [
      "Setting `pad_token_id` to `eos_token_id`:11 for open-end generation.\n"
     ]
    },
    {
     "name": "stdout",
     "output_type": "stream",
     "text": [
      "#### User: I left 5 items of clothing out to dry and it took 5 hours. How long would it take to dry 30 items of clothing?\n",
      "#### Response:\n",
      "\n",
      "The number of items to dry is x and the amount of time it takes is y. The formula is x * 1/y. To find the time, we divide the amount x by the amount y.\n",
      "\n",
      "Let x = 30. So, we have x * 1/30 = 0.5. The amount of time is 5 * 1/0.5 = 2 hours. To dry 30 items of clothing, it will take 0.5 * 1 = 1 hour.\n"
     ]
    }
   ],
   "source": [
    "# 5.1 Common sense questions\n",
    "response = falcon_pipeline(\"#### User: I left 5 items of clothing out to dry and it took 5 hours. How long would it take to dry 30 items of clothing?\\n#### Response:\\n\",\n",
    "                           max_length=500,\n",
    "                           do_sample=True,\n",
    "                           top_k=10,\n",
    "                           num_return_sequences=1,\n",
    "                           eos_token_id=tokenizer.eos_token_id)\n",
    "chat = response[0]['generated_text']\n",
    "print(chat)"
   ]
  },
  {
   "cell_type": "code",
   "execution_count": 12,
   "id": "2f72bdad-7023-46de-ab46-7b35c06b12c5",
   "metadata": {},
   "outputs": [
    {
     "name": "stderr",
     "output_type": "stream",
     "text": [
      "Setting `pad_token_id` to `eos_token_id`:11 for open-end generation.\n"
     ]
    },
    {
     "name": "stdout",
     "output_type": "stream",
     "text": [
      "#### User: Which of the following options makes use of regulatory organization when annotating unknown gene functions in Bacteria? (a) relative gene position, (b) transcription factor binding sites, (c) protein-protein interactions, or (d) RNA co-expression\n",
      "#### Response:\n",
      "#### Answer:\n",
      "b\n",
      "#### Explanation:\n",
      "b) transcription factor binding sites\n"
     ]
    }
   ],
   "source": [
    "# 6.1 Other gaps\n",
    "response = falcon_pipeline(\"#### User: Which of the following options makes use of regulatory organization when annotating unknown gene functions in Bacteria? (a) relative gene position, (b) transcription factor binding sites, (c) protein-protein interactions, or (d) RNA co-expression\\n#### Response:\\n\",\n",
    "                           max_length=500,\n",
    "                           do_sample=True,\n",
    "                           top_k=10,\n",
    "                           num_return_sequences=1,\n",
    "                           eos_token_id=tokenizer.eos_token_id)\n",
    "chat = response[0]['generated_text']\n",
    "print(chat)"
   ]
  },
  {
   "cell_type": "code",
   "execution_count": null,
   "id": "5f85af1c-bdc1-46bf-947c-6fbc17a62972",
   "metadata": {},
   "outputs": [],
   "source": []
  }
 ],
 "metadata": {
  "kernelspec": {
   "display_name": "Python 3 (ipykernel)",
   "language": "python",
   "name": "python3"
  },
  "language_info": {
   "codemirror_mode": {
    "name": "ipython",
    "version": 3
   },
   "file_extension": ".py",
   "mimetype": "text/x-python",
   "name": "python",
   "nbconvert_exporter": "python",
   "pygments_lexer": "ipython3",
   "version": "3.11.5"
  }
 },
 "nbformat": 4,
 "nbformat_minor": 5
}
